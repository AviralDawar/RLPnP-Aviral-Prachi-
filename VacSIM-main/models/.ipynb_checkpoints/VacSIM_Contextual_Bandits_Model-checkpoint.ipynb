{
 "cells": [
  {
   "cell_type": "code",
   "execution_count": 1,
   "metadata": {
    "colab": {
     "base_uri": "https://localhost:8080/"
    },
    "id": "_0Wv3aiFTOor",
    "outputId": "f8bf7e8a-01d3-4ff1-9f4d-ed718c6ecb55"
   },
   "outputs": [
    {
     "name": "stdout",
     "output_type": "stream",
     "text": [
      "Collecting boost\n",
      "  Downloading boost-0.1.tar.gz (6.3 kB)\n",
      "  Preparing metadata (setup.py) ... \u001b[?25ldone\n",
      "\u001b[?25hCollecting Mastodon.py\n",
      "  Downloading Mastodon.py-1.5.1-py2.py3-none-any.whl (36 kB)\n",
      "Collecting sqlalchemy\n",
      "  Downloading SQLAlchemy-1.4.40.tar.gz (8.3 MB)\n",
      "     |████████████████████████████████| 8.3 MB 6.2 MB/s            \n",
      "\u001b[?25h  Preparing metadata (setup.py) ... \u001b[?25ldone\n",
      "\u001b[?25hRequirement already satisfied: six in /Users/aviraldawar/mambaforge/lib/python3.9/site-packages (from Mastodon.py->boost) (1.16.0)\n",
      "Requirement already satisfied: python-dateutil in /Users/aviraldawar/mambaforge/lib/python3.9/site-packages (from Mastodon.py->boost) (2.8.2)\n",
      "Collecting blurhash>=1.1.4\n",
      "  Downloading blurhash-1.1.4-py2.py3-none-any.whl (5.3 kB)\n",
      "Collecting pytz\n",
      "  Downloading pytz-2022.2.1-py2.py3-none-any.whl (500 kB)\n",
      "     |████████████████████████████████| 500 kB 15.2 MB/s            \n",
      "\u001b[?25hRequirement already satisfied: decorator>=4.0.0 in /Users/aviraldawar/mambaforge/lib/python3.9/site-packages (from Mastodon.py->boost) (5.1.1)\n",
      "Collecting python-magic\n",
      "  Downloading python_magic-0.4.27-py2.py3-none-any.whl (13 kB)\n",
      "Requirement already satisfied: requests>=2.4.2 in /Users/aviraldawar/mambaforge/lib/python3.9/site-packages (from Mastodon.py->boost) (2.26.0)\n",
      "Requirement already satisfied: idna<4,>=2.5 in /Users/aviraldawar/mambaforge/lib/python3.9/site-packages (from requests>=2.4.2->Mastodon.py->boost) (3.1)\n",
      "Requirement already satisfied: urllib3<1.27,>=1.21.1 in /Users/aviraldawar/mambaforge/lib/python3.9/site-packages (from requests>=2.4.2->Mastodon.py->boost) (1.26.7)\n",
      "Requirement already satisfied: certifi>=2017.4.17 in /Users/aviraldawar/mambaforge/lib/python3.9/site-packages (from requests>=2.4.2->Mastodon.py->boost) (2021.10.8)\n",
      "Requirement already satisfied: charset-normalizer~=2.0.0 in /Users/aviraldawar/mambaforge/lib/python3.9/site-packages (from requests>=2.4.2->Mastodon.py->boost) (2.0.9)\n",
      "Building wheels for collected packages: boost, sqlalchemy\n",
      "  Building wheel for boost (setup.py) ... \u001b[?25ldone\n",
      "\u001b[?25h  Created wheel for boost: filename=boost-0.1-py3-none-any.whl size=12460 sha256=11a76990ba7c745e650ee368fa68e89fd137fda8930951097337cc0c7743fb29\n",
      "  Stored in directory: /Users/aviraldawar/Library/Caches/pip/wheels/ba/d3/ce/40a4eb92e7aad98445295e20e931fb10b09943c453b37b570c\n",
      "  Building wheel for sqlalchemy (setup.py) ... \u001b[?25ldone\n",
      "\u001b[?25h  Created wheel for sqlalchemy: filename=SQLAlchemy-1.4.40-cp39-cp39-macosx_11_0_arm64.whl size=1546008 sha256=5a3a50b43ebf1d3179348f2e81d4b333486131f05275e69703a663f45c529e3c\n",
      "  Stored in directory: /Users/aviraldawar/Library/Caches/pip/wheels/52/14/3b/3c212826e8daed5f0927885095e1af8836e1a0771d2baf93a3\n",
      "Successfully built boost sqlalchemy\n",
      "Installing collected packages: pytz, python-magic, blurhash, sqlalchemy, Mastodon.py, boost\n",
      "Successfully installed Mastodon.py-1.5.1 blurhash-1.1.4 boost-0.1 python-magic-0.4.27 pytz-2022.2.1 sqlalchemy-1.4.40\n",
      "zsh:1: command not found: apt-get\n",
      "Collecting vowpalwabbit\n",
      "  Downloading vowpalwabbit-9.3.0-cp39-cp39-macosx_11_0_arm64.whl (2.1 MB)\n",
      "     |████████████████████████████████| 2.1 MB 4.9 MB/s            \n",
      "\u001b[?25hInstalling collected packages: vowpalwabbit\n",
      "Successfully installed vowpalwabbit-9.3.0\n"
     ]
    }
   ],
   "source": [
    "#Using the packages for installing Vowpal Wabbit\n",
    "!pip install boost\n",
    "!apt-get install libboost-program-options-dev zlib1g-dev libboost-python-dev -y\n",
    "!pip install vowpalwabbit"
   ]
  },
  {
   "cell_type": "code",
   "execution_count": 2,
   "metadata": {
    "id": "oiRDn4y-TQ7o"
   },
   "outputs": [
    {
     "ename": "ModuleNotFoundError",
     "evalue": "No module named 'vowpalwabbit'",
     "output_type": "error",
     "traceback": [
      "\u001b[0;31m---------------------------------------------------------------------------\u001b[0m",
      "\u001b[0;31mModuleNotFoundError\u001b[0m                       Traceback (most recent call last)",
      "\u001b[0;32m/var/folders/8g/nchyyxhj48s_pksxd0fjz74h0000gn/T/ipykernel_9144/1237509397.py\u001b[0m in \u001b[0;36m<module>\u001b[0;34m\u001b[0m\n\u001b[1;32m      1\u001b[0m \u001b[0;31m#Importing the required libraries\u001b[0m\u001b[0;34m\u001b[0m\u001b[0;34m\u001b[0m\u001b[0;34m\u001b[0m\u001b[0m\n\u001b[1;32m      2\u001b[0m \u001b[0;32mimport\u001b[0m \u001b[0mpandas\u001b[0m \u001b[0;32mas\u001b[0m \u001b[0mpd\u001b[0m\u001b[0;34m\u001b[0m\u001b[0;34m\u001b[0m\u001b[0m\n\u001b[0;32m----> 3\u001b[0;31m \u001b[0;32mfrom\u001b[0m \u001b[0mvowpalwabbit\u001b[0m \u001b[0;32mimport\u001b[0m \u001b[0mpyvw\u001b[0m\u001b[0;34m\u001b[0m\u001b[0;34m\u001b[0m\u001b[0m\n\u001b[0m\u001b[1;32m      4\u001b[0m \u001b[0;32mimport\u001b[0m \u001b[0mnumpy\u001b[0m \u001b[0;32mas\u001b[0m \u001b[0mnp\u001b[0m\u001b[0;34m\u001b[0m\u001b[0;34m\u001b[0m\u001b[0m\n",
      "\u001b[0;31mModuleNotFoundError\u001b[0m: No module named 'vowpalwabbit'"
     ]
    }
   ],
   "source": [
    "#Importing the required libraries\n",
    "import pandas as pd\n",
    "from vowpalwabbit import pyvw \n",
    "import numpy as np"
   ]
  },
  {
   "cell_type": "code",
   "execution_count": null,
   "metadata": {
    "colab": {
     "base_uri": "https://localhost:8080/",
     "height": 109,
     "resources": {
      "http://localhost:8080/nbextensions/google.colab/files.js": {
       "data": "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",
       "headers": [
        [
         "content-type",
         "application/javascript"
        ]
       ],
       "ok": true,
       "status": 200,
       "status_text": ""
      }
     }
    },
    "id": "zpMYvx-STIDQ",
    "outputId": "b9844e17-fd1e-4c2e-ab65-b2437b1e4664"
   },
   "outputs": [],
   "source": [
    "#Uploading the 1000 Bucket size CSVs of ACKTR and DQN\n",
    "from google.colab import files\n",
    "files.upload()"
   ]
  },
  {
   "cell_type": "code",
   "execution_count": null,
   "metadata": {
    "colab": {
     "base_uri": "https://localhost:8080/",
     "height": 609
    },
    "id": "XMp5szAIEC5E",
    "outputId": "0fc7708d-0074-41b3-f2b1-975557e9bae0"
   },
   "outputs": [],
   "source": [
    "#Creating a dataframe\n",
    "vac_df = pd.read_csv('DQN_1KBuc_CB_Input_dat.csv')\n",
    "#vac_df = pd.read_csv('ACKTR_1KBuc_CB_Input_dat.csv')\n",
    "vac_df = vac_df[[\"Date\",\"State...UT\",\"Confirmed.cases\",\"Death.Rate\",\"Recovery.Rate\",\"Population\",\"Susceptible\",\"Overall.Hospital.Beds\",\"Overall.ICU.Beds\",\"Ventilators\",\"Age.Distribution\",\"Action\",\"Reward\",\"Recovered.Cases\",\"Deceased.cases\",\"Percentage.distribution\"]]\n",
    "#vac_df = pd.read_csv('DQN_1KBuc_CB_Input_dat.csv')\n",
    "vac_df=vac_df[30:]\n",
    "vac_df"
   ]
  },
  {
   "cell_type": "code",
   "execution_count": null,
   "metadata": {
    "id": "c5rN_yjw0Yxz"
   },
   "outputs": [],
   "source": [
    "from vowpalwabbit import pyvw \n",
    "import numpy as np"
   ]
  },
  {
   "cell_type": "code",
   "execution_count": null,
   "metadata": {
    "colab": {
     "base_uri": "https://localhost:8080/"
    },
    "id": "M_Jv1tWy1sup",
    "outputId": "70fa5464-9fa6-4155-f166-a66e74dcd2a5"
   },
   "outputs": [],
   "source": [
    "#Given that our models learn well for bucket size 200-500, we consider the buckets 200, 300, 400 and 500\n",
    "for var in range(200,501,100): \n",
    "    print(\"BUCKET SIZE\",var)\n",
    "    vw = pyvw.vw(\"--cb \"+str(var))\n",
    "    ### TRAINING ###\n",
    "    actions_train=[]\n",
    "    t=2 # 10000 initially\n",
    "    while(t):\n",
    "        t-=1\n",
    "        for i in range(0,130,5):   #Training on 1st to 26th Dec\n",
    "            arr=vac_df[i:i+5].to_numpy()    #i to i+5 for 5 states on single date\n",
    "            total_confirmed=sum(arr[:,2])\n",
    "            total_population=sum(arr[:,5])\n",
    "            total_susceptible=sum(arr[:,6])\n",
    "            total_beds=sum(arr[:,7])\n",
    "            total_icu=sum(arr[:,8])\n",
    "            total_venti=sum(arr[:,9])\n",
    "            total_old=sum(arr[:,10])\n",
    "            for s in range(0,5):          # s for 5 diff models for 5 diff states\n",
    "                confirmed_ratio=arr[s][2]#/total_confirmed\n",
    "                dr=arr[s][3]#/100; \n",
    "                rr=arr[s][4]#/100\n",
    "                population_ratio=arr[s][5]#/total_population\n",
    "                susceptible_ratio = arr[s][6]#/total_susceptible\n",
    "                bed_ratio=arr[s][7]#/total_beds\n",
    "                icu_ratio=arr[s][8]#/total_icu\n",
    "                venti_ratio=arr[s][9]#/total_venti\n",
    "                old_ratio=arr[s][10]#/total_old\n",
    "                action=int(arr[s][11])\n",
    "                reward=int(arr[s][12])\n",
    "              \n",
    "                new_action = int(abs((10*action*var + 5*var -5000)/10000))    # only for original action space of 1000 actions\n",
    "                actions_train.append(new_action) \n",
    "                learn_example=str(new_action)+':'+str(-reward)+':'+str(0.9)+' | '+str(susceptible_ratio)+' '+str(confirmed_ratio)+' '+str(population_ratio)+' '+str(dr)+' '+str(rr)+' '+str(bed_ratio)+' '+str(icu_ratio)+' '+str(venti_ratio)+' '+str(old_ratio)\n",
    "                #print(learn_example)\n",
    "                vw.learn(learn_example)\n",
    "    actions_train_unique=np.unique(actions_train)\n",
    "    #print(\"unique action in training\",actions_train_unique)\n",
    "    ### TESTING ###\n",
    "    actions_test = []\n",
    "    for i in range(130,310,5):   # Testing on 27th Dec to 31st Jan\n",
    "        arr=vac_df[i:i+5].to_numpy()    #i to i+5 for 5 states on single date\n",
    "        total_confirmed=sum(arr[:,2])\n",
    "        total_population=sum(arr[:,5])\n",
    "        total_susceptible=sum(arr[:,6])\n",
    "        total_beds=sum(arr[:,7])\n",
    "        total_icu=sum(arr[:,8])\n",
    "        total_venti=sum(arr[:,9])\n",
    "        total_old=sum(arr[:,10])\n",
    "        for s in range(5):          # s for 5 diff models for 5 diff states\n",
    "            confirmed_ratio=arr[s][2]#/total_confirmed\n",
    "            dr=arr[s][3]#/100\n",
    "            rr=arr[s][4]#/100\n",
    "            population_ratio=arr[s][5]#/total_population\n",
    "            susceptible_ratio = arr[s][6]#/total_susceptible\n",
    "            bed_ratio=arr[s][7]#/total_beds\n",
    "            icu_ratio=arr[s][8]#/total_icu\n",
    "            venti_ratio=arr[s][9]#/total_venti\n",
    "            old_ratio=arr[s][10]#/total_old\n",
    "            #action=int(arr[s][11])\n",
    "            #reward=arr[s][12]\n",
    "            test_example='| '+str(susceptible_ratio)+' '+str(confirmed_ratio)+' '+str(population_ratio)+' '+str(dr)+' '+str(rr)+' '+str(bed_ratio)+' '+str(icu_ratio)+' '+str(venti_ratio)+' '+str(old_ratio)\n",
    "            a=vw.predict(test_example)\n",
    "            #print(test_example)\n",
    "            actions_test.append(a)\n",
    "            print(a)\n",
    "    actions_test_unique=np.unique(actions_test)\n",
    "    #print(\"unique actions in testing\",actions_test_unique)"
   ]
  },
  {
   "cell_type": "code",
   "execution_count": null,
   "metadata": {},
   "outputs": [],
   "source": []
  },
  {
   "cell_type": "code",
   "execution_count": null,
   "metadata": {},
   "outputs": [],
   "source": []
  }
 ],
 "metadata": {
  "colab": {
   "collapsed_sections": [],
   "name": " VacSIM Contextual Bandits Model.ipynb",
   "provenance": [],
   "toc_visible": true
  },
  "kernelspec": {
   "display_name": "Python 3 (ipykernel)",
   "language": "python",
   "name": "python3"
  },
  "language_info": {
   "codemirror_mode": {
    "name": "ipython",
    "version": 3
   },
   "file_extension": ".py",
   "mimetype": "text/x-python",
   "name": "python",
   "nbconvert_exporter": "python",
   "pygments_lexer": "ipython3",
   "version": "3.8.12"
  }
 },
 "nbformat": 4,
 "nbformat_minor": 1
}
